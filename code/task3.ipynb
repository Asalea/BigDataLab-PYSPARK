{
 "cells": [
  {
   "cell_type": "code",
   "execution_count": 2,
   "metadata": {},
   "outputs": [
    {
     "name": "stdout",
     "output_type": "stream",
     "text": [
      "Done.\n"
     ]
    }
   ],
   "source": [
    "import sys\n",
    "from pyspark.sql import SparkSession\n",
    "from operator import add\n",
    "\n",
    "import re\n",
    "\n",
    "def createNameMap(nameList):\n",
    "    nameMap = {}\n",
    "    for name in nameList:\n",
    "        nameMap[name[0]] = name[1]\n",
    "    return nameMap\n",
    "\n",
    "def append(x, y):\n",
    "    for item in x:\n",
    "        y.append(item)\n",
    "    return y\n",
    "    \n",
    "def mapreduce(inPath, outPath, spark):\n",
    "    lines  = spark.read.text(inPath) \\\n",
    "            .rdd.map(lambda x:x[0]) \\\n",
    "            .map(lambda x:x.split(',')).map(lambda x:[x[0], [x[1], int(x[2])]])\n",
    "    summary = lines.map(lambda x: [x[0], x[1][1]]).reduceByKey(add)\n",
    "    nameMap = createNameMap(summary.collect())\n",
    "    \n",
    "    weight = lines.map(lambda x: [x[0], [[x[1][0], x[1][1]/float(nameMap[x[0]])]]]) \\\n",
    "            .reduceByKey(append) #将同一人物的相关人物放到一起\n",
    "    output = weight.sortByKey(ascending=True).collect()\n",
    "    \n",
    "    fout = open(outPath, 'w', encoding='utf-8')\n",
    "    for (key, valueList) in output:\n",
    "        fout.write(key + '\\t')\n",
    "        for value in valueList:\n",
    "            fout.write(value[0] + ',' + str(value[1]) + '|')\n",
    "        fout.write('\\n')\n",
    "    fout.close()\n",
    "    \n",
    "def drive():\n",
    "    spark = SparkSession\\\n",
    "    .builder\\\n",
    "    .appName(\"Task3\")\\\n",
    "    .getOrCreate()\n",
    "    \n",
    "    inPath = './../result/task2.out'\n",
    "    outPath = './../result/task3.out'\n",
    "    mapreduce(inPath, outPath, spark)\n",
    "    print('Done.')\n",
    "drive()"
   ]
  },
  {
   "cell_type": "code",
   "execution_count": null,
   "metadata": {},
   "outputs": [],
   "source": []
  },
  {
   "cell_type": "code",
   "execution_count": null,
   "metadata": {},
   "outputs": [],
   "source": []
  }
 ],
 "metadata": {
  "kernelspec": {
   "display_name": "Python 3",
   "language": "python",
   "name": "python3"
  },
  "language_info": {
   "codemirror_mode": {
    "name": "ipython",
    "version": 3
   },
   "file_extension": ".py",
   "mimetype": "text/x-python",
   "name": "python",
   "nbconvert_exporter": "python",
   "pygments_lexer": "ipython3",
   "version": "3.7.1"
  }
 },
 "nbformat": 4,
 "nbformat_minor": 2
}
