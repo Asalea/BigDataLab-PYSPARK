{
 "cells": [
  {
   "cell_type": "code",
   "execution_count": 5,
   "metadata": {},
   "outputs": [],
   "source": [
    "with open('./../dataset/people_name_list.txt', 'r', encoding='utf-8') as fin:\n",
    "    doc = fin.readlines()\n",
    "for i in range(0, len(doc)):\n",
    "    doc[i] = doc[i].strip('\\n')\n",
    "    doc[i] = doc[i] + ',,' + 'nr'\n",
    "with open('./../dataset/people_name_list.txt', 'w', encoding='utf-8') as fout:\n",
    "    for line in doc:\n",
    "        fout.write(line+'\\n')"
   ]
  },
  {
   "cell_type": "code",
   "execution_count": null,
   "metadata": {},
   "outputs": [],
   "source": []
  }
 ],
 "metadata": {
  "kernelspec": {
   "display_name": "Python 3",
   "language": "python",
   "name": "python3"
  },
  "language_info": {
   "codemirror_mode": {
    "name": "ipython",
    "version": 3
   },
   "file_extension": ".py",
   "mimetype": "text/x-python",
   "name": "python",
   "nbconvert_exporter": "python",
   "pygments_lexer": "ipython3",
   "version": "3.7.1"
  }
 },
 "nbformat": 4,
 "nbformat_minor": 2
}
