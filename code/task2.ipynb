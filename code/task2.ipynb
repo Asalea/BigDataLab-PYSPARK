{
 "cells": [
  {
   "cell_type": "code",
   "execution_count": 23,
   "metadata": {},
   "outputs": [],
   "source": [
    "from __future__ import print_function\n",
    "\n",
    "import sys\n",
    "import re\n",
    "from operator import add\n",
    "from pyspark.sql import SparkSession\n",
    "\n",
    "def combine(L):\n",
    "    output = set()\n",
    "    for i  in range(0, len(L)):\n",
    "        for j in range(0, len(L)):\n",
    "            if L[i] != L[j]:\n",
    "                output.add((L[i], L[j]))\n",
    "    return output\n",
    "\n",
    "def drive(taskName):\n",
    "    spark = SparkSession\\\n",
    "        .builder\\\n",
    "        .appName(taskName)\\\n",
    "        .getOrCreate()\n",
    "    mapreduce('./../dataset/name/金庸01飞狐外传.name', './../result/task2.out', spark)\n",
    "    \n",
    "def mapreduce(inPath, outPath, spark):\n",
    "    lines  = spark.read.text(inPath) \\\n",
    "            .rdd.map(lambda x:x[0]) \\\n",
    "            .map(lambda x: x.split('|'))\n",
    "    counts = lines.flatMap(combine).map(lambda x:(x,1)).reduceByKey(add)\n",
    "    output = counts.collect()\n",
    "    fout = open(outPath, 'w', encoding='utf-8')\n",
    "    for (word, count) in output:\n",
    "        fout.write(word[0] + ',' + word[1] + ',' + str(count) + '\\n')\n",
    "    fout.close()\n",
    "    \n",
    "drive('Task2')"
   ]
  },
  {
   "cell_type": "code",
   "execution_count": 9,
   "metadata": {
    "collapsed": true
   },
   "outputs": [
    {
     "data": {
      "text/plain": [
       "{('卜垣', '戚芳'),\n",
       " ('卜垣', '戚长发'),\n",
       " ('卜垣', '狄云'),\n",
       " ('戚芳', '卜垣'),\n",
       " ('戚芳', '戚长发'),\n",
       " ('戚芳', '狄云'),\n",
       " ('戚长发', '卜垣'),\n",
       " ('戚长发', '戚芳'),\n",
       " ('戚长发', '狄云'),\n",
       " ('狄云', '卜垣'),\n",
       " ('狄云', '戚芳'),\n",
       " ('狄云', '戚长发')}"
      ]
     },
     "execution_count": 9,
     "metadata": {},
     "output_type": "execute_result"
    }
   ],
   "source": [
    "\n"
   ]
  }
 ],
 "metadata": {
  "kernelspec": {
   "display_name": "Python 3",
   "language": "python",
   "name": "python3"
  },
  "language_info": {
   "codemirror_mode": {
    "name": "ipython",
    "version": 3
   },
   "file_extension": ".py",
   "mimetype": "text/x-python",
   "name": "python",
   "nbconvert_exporter": "python",
   "pygments_lexer": "ipython3",
   "version": "3.7.1"
  }
 },
 "nbformat": 4,
 "nbformat_minor": 2
}
