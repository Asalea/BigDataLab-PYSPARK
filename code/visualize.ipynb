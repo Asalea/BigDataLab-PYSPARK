{
 "cells": [
  {
   "cell_type": "code",
   "execution_count": 7,
   "metadata": {},
   "outputs": [],
   "source": [
    "import pandas as pd\n",
    "\n",
    "def edge():\n",
    "    fin = open('./../result/task3.out', 'r', encoding='utf-8')\n",
    "    doc = fin.readlines()\n",
    "    fin.close()\n",
    "    dstlist = []\n",
    "    srclist = []\n",
    "    weightlist = []\n",
    "    typelist = []\n",
    "\n",
    "    for i in range(0, len(doc)):\n",
    "        doc[i] = doc[i].strip('\\n')\n",
    "        dst, infolist_str = doc[i].split('\\t')\n",
    "        infolist_str = infolist_str[:len(infolist_str)-1]\n",
    "        infolist = infolist_str.split('|')\n",
    "        for info in infolist:\n",
    "            sname, w = info.split(',')\n",
    "            srclist.append(sname)\n",
    "            weightlist.append(w)\n",
    "            dstlist.append(dst)\n",
    "            typelist.append('Directed')\n",
    "    edf = pd.DataFrame(index = None, columns=['source', 'Target', 'Type', 'Weight'])\n",
    "    edf['source'] = srclist\n",
    "    edf['Target'] = dstlist\n",
    "    edf['Type'] = typelist\n",
    "    edf['Weight'] = weightlist\n",
    "    edf.to_csv('./../result/edge.csv', index= None, encoding='gbk')\n",
    "    \n",
    "def node():\n",
    "    df = pd.read_csv('./../result/task5.out', encoding=\"utf-8\")\n",
    "    ndf = pd.DataFrame(index = None, columns=['Modularity Class', 'Id', 'Label'])\n",
    "    tags = df.pop('Tag')\n",
    "    names = df.pop('Name')\n",
    "    ndf['Label'] = names\n",
    "    ndf['Id'] = names\n",
    "    ndf['Modularity Class'] = tags\n",
    "    ndf.to_csv('./../result/node.csv', index=None, encoding='gbk')    \n",
    "    \n",
    "edge()\n",
    "node()\n",
    "\n"
   ]
  },
  {
   "cell_type": "code",
   "execution_count": null,
   "metadata": {},
   "outputs": [],
   "source": []
  }
 ],
 "metadata": {
  "kernelspec": {
   "display_name": "Python 3",
   "language": "python",
   "name": "python3"
  },
  "language_info": {
   "codemirror_mode": {
    "name": "ipython",
    "version": 3
   },
   "file_extension": ".py",
   "mimetype": "text/x-python",
   "name": "python",
   "nbconvert_exporter": "python",
   "pygments_lexer": "ipython3",
   "version": "3.7.1"
  }
 },
 "nbformat": 4,
 "nbformat_minor": 2
}
